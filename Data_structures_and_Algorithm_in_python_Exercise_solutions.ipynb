{
  "nbformat": 4,
  "nbformat_minor": 0,
  "metadata": {
    "colab": {
      "name": "Data structures and Algorithm in python Exercise-solutions.ipynb",
      "version": "0.3.2",
      "provenance": [],
      "collapsed_sections": [],
      "include_colab_link": true
    },
    "kernelspec": {
      "name": "python3",
      "display_name": "Python 3"
    }
  },
  "cells": [
    {
      "cell_type": "markdown",
      "metadata": {
        "id": "view-in-github",
        "colab_type": "text"
      },
      "source": [
        "<a href=\"https://colab.research.google.com/github/DhamuSniper/A-very-simple-MEAN-app-for-CRUD-/blob/master/Data_structures_and_Algorithm_in_python_Exercise_solutions.ipynb\" target=\"_parent\"><img src=\"https://colab.research.google.com/assets/colab-badge.svg\" alt=\"Open In Colab\"/></a>"
      ]
    },
    {
      "cell_type": "code",
      "metadata": {
        "id": "fwIcYPfrXEaw",
        "colab_type": "code",
        "colab": {}
      },
      "source": [
        ""
      ],
      "execution_count": 0,
      "outputs": []
    },
    {
      "cell_type": "markdown",
      "metadata": {
        "id": "7ThnrqA2XGWe",
        "colab_type": "text"
      },
      "source": [
        "# Data structures and Algorithm in python Exercise-solutions\n"
      ]
    },
    {
      "cell_type": "markdown",
      "metadata": {
        "id": "VHkMepvfXF0-",
        "colab_type": "text"
      },
      "source": [
        ""
      ]
    },
    {
      "cell_type": "code",
      "metadata": {
        "id": "_cJ42UuCXPJv",
        "colab_type": "code",
        "outputId": "fe1920cb-754c-4bef-f120-e551b0dfe27c",
        "colab": {
          "base_uri": "https://localhost:8080/",
          "height": 35
        }
      },
      "source": [
        "#R.1.1\n",
        "\n",
        "def is_multiple(n,m):\n",
        "  if(n>=m):\n",
        "    for i in range(n+1):\n",
        "      if(n==m*i):\n",
        "        return True\n",
        "  return False\n",
        "\n",
        "val=is_multiple(15,5)\n",
        "print(val)"
      ],
      "execution_count": 0,
      "outputs": [
        {
          "output_type": "stream",
          "text": [
            "True\n"
          ],
          "name": "stdout"
        }
      ]
    },
    {
      "cell_type": "code",
      "metadata": {
        "id": "YSpnZslOXSqn",
        "colab_type": "code",
        "outputId": "580681f0-1ab2-4f3d-acc6-20571369507f",
        "colab": {
          "base_uri": "https://localhost:8080/",
          "height": 52
        }
      },
      "source": [
        "#R.1.2\n",
        "\n",
        "def is_even(k):\n",
        "  Bin_val=bin(k)\n",
        "  str_val=str(Bin_val)\n",
        "  print(str_val[-1])\n",
        "  if(str_val[-1]=='0'):\n",
        "    return True\n",
        "  else:\n",
        "    return False\n",
        "  \n",
        "  \n",
        "val=is_even(7)\n",
        "print(val)\n",
        "  "
      ],
      "execution_count": 0,
      "outputs": [
        {
          "output_type": "stream",
          "text": [
            "1\n",
            "False\n"
          ],
          "name": "stdout"
        }
      ]
    },
    {
      "cell_type": "code",
      "metadata": {
        "id": "6O16t0EZYUFf",
        "colab_type": "code",
        "outputId": "f108abae-7b3c-4f20-9f4d-d8ff1cdec551",
        "colab": {
          "base_uri": "https://localhost:8080/",
          "height": 35
        }
      },
      "source": [
        "#R.1.3\n",
        "\n",
        "def minimaxi(data):\n",
        "  updated_lst=[]\n",
        "  mini=data[0]\n",
        "  maxi=data[0]\n",
        "  \n",
        "  for i in data :\n",
        " \n",
        "    if(i>maxi):\n",
        "      maxi=i\n",
        "    if(i<mini):\n",
        "      mini=i\n",
        "  updated_lst.append(maxi)\n",
        "  updated_lst.append(mini)\n",
        "  output=tuple(updated_lst)\n",
        "  return output\n",
        "data=[1,3,4,-1,9]\n",
        "minimaxi(data)\n"
      ],
      "execution_count": 0,
      "outputs": [
        {
          "output_type": "execute_result",
          "data": {
            "text/plain": [
              "(9, -1)"
            ]
          },
          "metadata": {
            "tags": []
          },
          "execution_count": 18
        }
      ]
    },
    {
      "cell_type": "code",
      "metadata": {
        "id": "Igrbf-OxenTx",
        "colab_type": "code",
        "outputId": "4b08628e-d5f1-487f-a9f8-610907f13d39",
        "colab": {
          "base_uri": "https://localhost:8080/",
          "height": 35
        }
      },
      "source": [
        "#R.1.4\n",
        "\n",
        "def square(n):\n",
        "    sumVal=0\n",
        "    for i in range(1,n+1):\n",
        "      sumVal+=pow(i,2)\n",
        "    \n",
        "    return sumVal\n",
        "val=square(2)\n",
        "print(val)"
      ],
      "execution_count": 0,
      "outputs": [
        {
          "output_type": "stream",
          "text": [
            "5\n"
          ],
          "name": "stdout"
        }
      ]
    },
    {
      "cell_type": "code",
      "metadata": {
        "id": "XOQO7VFbfQYZ",
        "colab_type": "code",
        "outputId": "971e1736-b188-4fdd-d7fd-61b2fadd45e0",
        "colab": {
          "base_uri": "https://localhost:8080/",
          "height": 35
        }
      },
      "source": [
        "#R.1.6\n",
        "\n",
        "def Odd_square(n):\n",
        "      sumVal=0\n",
        "      for i in range(1,n+1):\n",
        "        if(i%2!=0):\n",
        "          sumVal+=pow(i,2)\n",
        "        \n",
        "      return sumVal\n",
        "  \n",
        "val=Odd_square(5)\n",
        "print(val)"
      ],
      "execution_count": 0,
      "outputs": [
        {
          "output_type": "stream",
          "text": [
            "35\n"
          ],
          "name": "stdout"
        }
      ]
    },
    {
      "cell_type": "code",
      "metadata": {
        "id": "F_ld4ADngYYa",
        "colab_type": "code",
        "colab": {
          "base_uri": "https://localhost:8080/",
          "height": 35
        },
        "outputId": "8fd16b8f-f808-4da9-d116-2458f1874689"
      },
      "source": [
        "#comprehension Syntax\n",
        "\n",
        "\n",
        "List=[ 2**k for k in range(9)]\n",
        "print(List)"
      ],
      "execution_count": 60,
      "outputs": [
        {
          "output_type": "stream",
          "text": [
            "[1, 2, 4, 8, 16, 32, 64, 128, 256]\n"
          ],
          "name": "stdout"
        }
      ]
    }
  ]
}